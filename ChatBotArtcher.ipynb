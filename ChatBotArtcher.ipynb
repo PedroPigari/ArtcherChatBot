{
  "nbformat": 4,
  "nbformat_minor": 0,
  "metadata": {
    "colab": {
      "provenance": []
    },
    "kernelspec": {
      "name": "python3",
      "display_name": "Python 3"
    },
    "language_info": {
      "name": "python"
    }
  },
  "cells": [
    {
      "cell_type": "code",
      "execution_count": null,
      "metadata": {
        "id": "r500QsFBwQDR"
      },
      "outputs": [],
      "source": [
        "!pip install openai"
      ]
    },
    {
      "cell_type": "code",
      "source": [
        "import openai\n",
        "openai.api_key = \"********************************\""
      ],
      "metadata": {
        "id": "ERUDlHMGyRHI"
      },
      "execution_count": null,
      "outputs": []
    },
    {
      "cell_type": "code",
      "source": [
        "# Acessa o conteúdo do arquivo de texto\n",
        "with open(\"contexto.txt\", \"r\") as file:\n",
        "    context = file.read()\n",
        "\n",
        "# Iniciar o loop\n",
        "while True:\n",
        "    # Solicitar entrada do usuário\n",
        "    user_input = input(\"Digite aqui sua mensagem:\")\n",
        "\n",
        "\n",
        "    # Cria um diálogo\n",
        "    conversa = [\n",
        "        {\"role\": \"system\", \"content\": \"Você é um chatbot chamado Arthur que indica restaurantes para os usuários. Use somente o artigo fornecido para responder às perguntas\"},\n",
        "        {\"role\": \"system\", \"content\": \"Caso não possua os dados no artigo escreva: Me desculpe não possuo sugestões para esse assunto.\"},\n",
        "        {\"role\": \"user\", \"content\": context},\n",
        "        {\"role\": \"user\", \"content\": user_input},  # Adicionar a entrada do usuário\n",
        "    ]\n",
        "\n",
        "    # Parâmetros da solicitação\n",
        "    params = {\n",
        "        \"model\": \"gpt-3.5-turbo\",\n",
        "        \"messages\": conversa,\n",
        "        \"max_tokens\": 300,  # Número máximo de tokens na resposta\n",
        "        \"temperature\": 0.9  # Temperatura da resposta (quanto maior, mais aleatória)\n",
        "    }\n",
        "\n",
        "    # Enviar a solicitação para a API do ChatGPT\n",
        "    resposta = openai.ChatCompletion.create(**params)\n",
        "\n",
        "\n",
        "    # Extrair e imprimir a resposta do assistente\n",
        "    print(\"Arthur:\", resposta.choices[0].message['content'])"
      ],
      "metadata": {
        "id": "AmVGYn5CU1jU"
      },
      "execution_count": null,
      "outputs": []
    }
  ]
}